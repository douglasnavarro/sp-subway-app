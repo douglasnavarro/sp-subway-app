{
 "cells": [
  {
   "cell_type": "code",
   "execution_count": 1,
   "metadata": {},
   "outputs": [],
   "source": [
    "import pandas as pd"
   ]
  },
  {
   "cell_type": "code",
   "execution_count": 2,
   "metadata": {},
   "outputs": [],
   "source": [
    "import dash\n",
    "import dash_core_components as dcc\n",
    "import dash_html_components as html\n",
    "import plotly\n",
    "import plotly.graph_objs as go\n",
    "import plotly.figure_factory as ff"
   ]
  },
  {
   "cell_type": "code",
   "execution_count": 3,
   "metadata": {},
   "outputs": [],
   "source": [
    "plotly.tools.set_credentials_file(username='douglasnavarro', api_key='PqgUwmrzrrAT6phGlgDH')"
   ]
  },
  {
   "cell_type": "code",
   "execution_count": 4,
   "metadata": {},
   "outputs": [],
   "source": [
    "df = pd.read_csv('subway-data-clean.csv')"
   ]
  },
  {
   "cell_type": "code",
   "execution_count": 5,
   "metadata": {},
   "outputs": [],
   "source": [
    "df['Time'] = pd.to_datetime(df['Time'], format=\"%Y-%m-%d %H:%M\")"
   ]
  },
  {
   "cell_type": "code",
   "execution_count": 6,
   "metadata": {},
   "outputs": [],
   "source": [
    "def make_gantt_df(df):\n",
    "    '''\n",
    "    Returns dataFrame plottable using plotly's Gantt chart\n",
    "    '''\n",
    "    gantt_df = pd.DataFrame()\n",
    "    df = df.loc[df['Status'].shift() != df['Status']]\n",
    "    gantt_df['Task'] = df['Status']\n",
    "    gantt_df['Start'] = df['Time']\n",
    "    gantt_df['Finish'] = df['Time'].shift(-1)\n",
    "    gantt_df = gantt_df.reset_index(drop=True)\n",
    "    return gantt_df"
   ]
  },
  {
   "cell_type": "code",
   "execution_count": 7,
   "metadata": {},
   "outputs": [],
   "source": [
    "def drop_weird(df):\n",
    "    df = df[(df['Finish'] - df['Start']).dt.days < 1]\n",
    "    #df = df[((df['Finish'] - df['Start']).dt.seconds//3600) < 23]\n",
    "    return df"
   ]
  },
  {
   "cell_type": "code",
   "execution_count": 8,
   "metadata": {},
   "outputs": [],
   "source": [
    "df_azul = df[df['Line'] == 'azul']"
   ]
  },
  {
   "cell_type": "code",
   "execution_count": 9,
   "metadata": {},
   "outputs": [],
   "source": [
    "df_azul = make_gantt_df(df_azul)"
   ]
  },
  {
   "cell_type": "code",
   "execution_count": 10,
   "metadata": {},
   "outputs": [
    {
     "data": {
      "text/html": [
       "<div>\n",
       "<style scoped>\n",
       "    .dataframe tbody tr th:only-of-type {\n",
       "        vertical-align: middle;\n",
       "    }\n",
       "\n",
       "    .dataframe tbody tr th {\n",
       "        vertical-align: top;\n",
       "    }\n",
       "\n",
       "    .dataframe thead th {\n",
       "        text-align: right;\n",
       "    }\n",
       "</style>\n",
       "<table border=\"1\" class=\"dataframe\">\n",
       "  <thead>\n",
       "    <tr style=\"text-align: right;\">\n",
       "      <th></th>\n",
       "      <th>Task</th>\n",
       "      <th>Start</th>\n",
       "      <th>Finish</th>\n",
       "    </tr>\n",
       "  </thead>\n",
       "  <tbody>\n",
       "    <tr>\n",
       "      <th>0</th>\n",
       "      <td>normal</td>\n",
       "      <td>2018-05-07 23:45:00</td>\n",
       "      <td>2018-05-09 00:00:00</td>\n",
       "    </tr>\n",
       "    <tr>\n",
       "      <th>1</th>\n",
       "      <td>operação encerrada</td>\n",
       "      <td>2018-05-09 00:00:00</td>\n",
       "      <td>2018-05-09 04:41:00</td>\n",
       "    </tr>\n",
       "    <tr>\n",
       "      <th>2</th>\n",
       "      <td>normal</td>\n",
       "      <td>2018-05-09 04:41:00</td>\n",
       "      <td>2018-05-09 18:10:00</td>\n",
       "    </tr>\n",
       "    <tr>\n",
       "      <th>3</th>\n",
       "      <td>velocidade reduzida</td>\n",
       "      <td>2018-05-09 18:10:00</td>\n",
       "      <td>2018-05-09 18:16:00</td>\n",
       "    </tr>\n",
       "    <tr>\n",
       "      <th>4</th>\n",
       "      <td>normal</td>\n",
       "      <td>2018-05-09 18:16:00</td>\n",
       "      <td>2018-05-10 00:00:00</td>\n",
       "    </tr>\n",
       "  </tbody>\n",
       "</table>\n",
       "</div>"
      ],
      "text/plain": [
       "                  Task               Start              Finish\n",
       "0               normal 2018-05-07 23:45:00 2018-05-09 00:00:00\n",
       "1   operação encerrada 2018-05-09 00:00:00 2018-05-09 04:41:00\n",
       "2               normal 2018-05-09 04:41:00 2018-05-09 18:10:00\n",
       "3  velocidade reduzida 2018-05-09 18:10:00 2018-05-09 18:16:00\n",
       "4               normal 2018-05-09 18:16:00 2018-05-10 00:00:00"
      ]
     },
     "execution_count": 10,
     "metadata": {},
     "output_type": "execute_result"
    }
   ],
   "source": [
    "df_azul.head()"
   ]
  },
  {
   "cell_type": "code",
   "execution_count": 11,
   "metadata": {},
   "outputs": [
    {
     "data": {
      "text/html": [
       "<div>\n",
       "<style scoped>\n",
       "    .dataframe tbody tr th:only-of-type {\n",
       "        vertical-align: middle;\n",
       "    }\n",
       "\n",
       "    .dataframe tbody tr th {\n",
       "        vertical-align: top;\n",
       "    }\n",
       "\n",
       "    .dataframe thead th {\n",
       "        text-align: right;\n",
       "    }\n",
       "</style>\n",
       "<table border=\"1\" class=\"dataframe\">\n",
       "  <thead>\n",
       "    <tr style=\"text-align: right;\">\n",
       "      <th></th>\n",
       "      <th>Task</th>\n",
       "      <th>Start</th>\n",
       "      <th>Finish</th>\n",
       "    </tr>\n",
       "  </thead>\n",
       "  <tbody>\n",
       "    <tr>\n",
       "      <th>0</th>\n",
       "      <td>normal</td>\n",
       "      <td>2018-05-07 23:45:00</td>\n",
       "      <td>2018-05-09 00:00:00</td>\n",
       "    </tr>\n",
       "    <tr>\n",
       "      <th>1</th>\n",
       "      <td>operação encerrada</td>\n",
       "      <td>2018-05-09 00:00:00</td>\n",
       "      <td>2018-05-09 04:41:00</td>\n",
       "    </tr>\n",
       "    <tr>\n",
       "      <th>2</th>\n",
       "      <td>normal</td>\n",
       "      <td>2018-05-09 04:41:00</td>\n",
       "      <td>2018-05-09 18:10:00</td>\n",
       "    </tr>\n",
       "    <tr>\n",
       "      <th>3</th>\n",
       "      <td>velocidade reduzida</td>\n",
       "      <td>2018-05-09 18:10:00</td>\n",
       "      <td>2018-05-09 18:16:00</td>\n",
       "    </tr>\n",
       "    <tr>\n",
       "      <th>4</th>\n",
       "      <td>normal</td>\n",
       "      <td>2018-05-09 18:16:00</td>\n",
       "      <td>2018-05-10 00:00:00</td>\n",
       "    </tr>\n",
       "  </tbody>\n",
       "</table>\n",
       "</div>"
      ],
      "text/plain": [
       "                  Task               Start              Finish\n",
       "0               normal 2018-05-07 23:45:00 2018-05-09 00:00:00\n",
       "1   operação encerrada 2018-05-09 00:00:00 2018-05-09 04:41:00\n",
       "2               normal 2018-05-09 04:41:00 2018-05-09 18:10:00\n",
       "3  velocidade reduzida 2018-05-09 18:10:00 2018-05-09 18:16:00\n",
       "4               normal 2018-05-09 18:16:00 2018-05-10 00:00:00"
      ]
     },
     "execution_count": 11,
     "metadata": {},
     "output_type": "execute_result"
    }
   ],
   "source": [
    "df_azul.drop(df_azul.index[-1], inplace=True)\n",
    "df_azul.head()"
   ]
  },
  {
   "cell_type": "code",
   "execution_count": 12,
   "metadata": {},
   "outputs": [
    {
     "data": {
      "text/plain": [
       "1"
      ]
     },
     "execution_count": 12,
     "metadata": {},
     "output_type": "execute_result"
    }
   ],
   "source": [
    "(df_azul.loc[0]['Finish'] - df_azul.loc[0]['Start']).days"
   ]
  },
  {
   "cell_type": "raw",
   "metadata": {},
   "source": [
    "df_azul.info()\n",
    "drop_weird(df_azul).info()"
   ]
  },
  {
   "cell_type": "code",
   "execution_count": null,
   "metadata": {},
   "outputs": [],
   "source": [
    "df_azul = drop_weird(df_azul)\n",
    "df_azul.reset_index(inplace=True)"
   ]
  },
  {
   "cell_type": "code",
   "execution_count": null,
   "metadata": {},
   "outputs": [],
   "source": [
    "fig = ff.create_gantt(df_azul, title='Subway', bar_width=0.3, showgrid_x=True, showgrid_y=True, group_tasks=True)"
   ]
  },
  {
   "cell_type": "code",
   "execution_count": null,
   "metadata": {},
   "outputs": [],
   "source": [
    "plotly.plotly.iplot(fig, filename='subway', world_readable=True)"
   ]
  },
  {
   "cell_type": "code",
   "execution_count": null,
   "metadata": {},
   "outputs": [],
   "source": [
    "df_azul_one = df_azul[(df_azul['Start'].dt.month == 7) & (df_azul['Start'].dt.day == 25)]\n",
    "df_azul_one.reset_index(drop=True, inplace=True)"
   ]
  },
  {
   "cell_type": "code",
   "execution_count": null,
   "metadata": {},
   "outputs": [],
   "source": [
    "fig = ff.create_gantt(df_azul_one, title='Linha azul 25/07/2018', bar_width=0.3, showgrid_x=True, showgrid_y=True, group_tasks=True)\n",
    "plotly.plotly.iplot(fig, filename='subway', world_readable=True)"
   ]
  },
  {
   "cell_type": "code",
   "execution_count": null,
   "metadata": {},
   "outputs": [],
   "source": [
    "df_azul_one"
   ]
  },
  {
   "cell_type": "code",
   "execution_count": null,
   "metadata": {},
   "outputs": [],
   "source": []
  }
 ],
 "metadata": {
  "kernelspec": {
   "display_name": "Python 3",
   "language": "python",
   "name": "python3"
  },
  "language_info": {
   "codemirror_mode": {
    "name": "ipython",
    "version": 3
   },
   "file_extension": ".py",
   "mimetype": "text/x-python",
   "name": "python",
   "nbconvert_exporter": "python",
   "pygments_lexer": "ipython3",
   "version": "3.5.4"
  }
 },
 "nbformat": 4,
 "nbformat_minor": 2
}
